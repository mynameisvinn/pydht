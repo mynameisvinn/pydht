{
 "cells": [
  {
   "cell_type": "code",
   "execution_count": 4,
   "metadata": {
    "collapsed": true
   },
   "outputs": [],
   "source": [
    "from dht import Node\n",
    "from dht import join, inspect"
   ]
  },
  {
   "cell_type": "code",
   "execution_count": 7,
   "metadata": {
    "collapsed": true
   },
   "outputs": [],
   "source": [
    "A = Node(\"A\", 1)\n",
    "B = Node(\"B\", 60)\n",
    "A.head = B\n",
    "A.tail = B\n",
    "\n",
    "B.head = A\n",
    "B.tail = A\n",
    "\n",
    "# lets add a new node to dht\n",
    "C = Node(\"C\", 35)\n",
    "join(A, C)\n",
    "\n",
    "D = Node(\"D\", 90)\n",
    "join(B, D)\n",
    "\n",
    "E = Node(\"E\", 41)\n",
    "join(A, E)\n",
    "\n",
    "F = Node(\"F\", 112)\n",
    "join(B, F)\n",
    "\n",
    "G = Node(\"G\", 14)\n",
    "join(E, G)"
   ]
  },
  {
   "cell_type": "code",
   "execution_count": 8,
   "metadata": {},
   "outputs": [
    {
     "name": "stdout",
     "output_type": "stream",
     "text": [
      "A 1 {}\n",
      "G 14 {}\n",
      "C 35 {}\n",
      "E 41 {}\n",
      "B 60 {}\n",
      "D 90 {}\n",
      "F 112 {}\n"
     ]
    }
   ],
   "source": [
    "inspect(A)"
   ]
  },
  {
   "cell_type": "code",
   "execution_count": null,
   "metadata": {
    "collapsed": true
   },
   "outputs": [],
   "source": []
  }
 ],
 "metadata": {
  "kernelspec": {
   "display_name": "Python 3",
   "language": "python",
   "name": "python3"
  },
  "language_info": {
   "codemirror_mode": {
    "name": "ipython",
    "version": 3
   },
   "file_extension": ".py",
   "mimetype": "text/x-python",
   "name": "python",
   "nbconvert_exporter": "python",
   "pygments_lexer": "ipython3",
   "version": "3.6.2"
  }
 },
 "nbformat": 4,
 "nbformat_minor": 2
}
